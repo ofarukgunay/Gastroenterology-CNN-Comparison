{
 "cells": [
  {
   "cell_type": "code",
   "execution_count": null,
   "id": "e9ef4504",
   "metadata": {
    "vscode": {
     "languageId": "plaintext"
    }
   },
   "outputs": [],
   "source": [
    "import tensorflow as tf\n",
    "import matplotlib.pyplot as plt\n",
    "import numpy as np\n",
    "import os\n",
    "\n",
    "print(\"TensorFlow Version:\", tf.__version__)"
   ]
  },
  {
   "cell_type": "code",
   "execution_count": null,
   "id": "7a2fb98f",
   "metadata": {
    "vscode": {
     "languageId": "plaintext"
    }
   },
   "outputs": [],
   "source": [
    "# Define the path to the dataset relative to the project's root directory\n",
    "# We are currently in the /notebooks folder, so we use ../ to go one level up\n",
    "DATA_DIR = '../data/kvasir-dataset-v2'\n",
    "\n",
    "# Standard image size for the models and batch size\n",
    "IMG_SIZE = (224, 224)\n",
    "BATCH_SIZE = 32"
   ]
  },
  {
   "cell_type": "code",
   "execution_count": null,
   "id": "fd5f1278",
   "metadata": {
    "vscode": {
     "languageId": "plaintext"
    }
   },
   "outputs": [],
   "source": [
    "# This function automatically loads and labels the images based on the folder structure.\n",
    "# We'll split the data into 80% for training and 20% for validation.\n",
    "train_dataset = tf.keras.utils.image_dataset_from_directory(\n",
    "    DATA_DIR,\n",
    "    validation_split=0.2,\n",
    "    subset=\"training\",\n",
    "    seed=123, # Using a seed ensures the split is the same every time\n",
    "    image_size=IMG_SIZE,\n",
    "    batch_size=BATCH_SIZE\n",
    ")\n",
    "\n",
    "validation_dataset = tf.keras.utils.image_dataset_from_directory(\n",
    "    DATA_DIR,\n",
    "    validation_split=0.2,\n",
    "    subset=\"validation\",\n",
    "    seed=123,\n",
    "    image_size=IMG_SIZE,\n",
    "    batch_size=BATCH_SIZE\n",
    ")"
   ]
  },
  {
   "cell_type": "code",
   "execution_count": null,
   "id": "36035946",
   "metadata": {
    "vscode": {
     "languageId": "plaintext"
    }
   },
   "outputs": [],
   "source": [
    "# Let's verify that the classes were loaded correctly.\n",
    "class_names = train_dataset.class_names\n",
    "print(\"Classes in the dataset:\", class_names)"
   ]
  },
  {
   "cell_type": "code",
   "execution_count": null,
   "id": "9875b118",
   "metadata": {
    "vscode": {
     "languageId": "plaintext"
    }
   },
   "outputs": [],
   "source": [
    "# Now, let's take a look at a few sample images and their labels.\n",
    "plt.figure(figsize=(12, 12))\n",
    "\n",
    "# Take one batch from the training dataset\n",
    "for images, labels in train_dataset.take(1):\n",
    "    for i in range(9): # Plot the first 9 images of the batch\n",
    "        ax = plt.subplot(3, 3, i + 1)\n",
    "        # Display the image after converting it to a numpy array\n",
    "        plt.imshow(images[i].numpy().astype(\"uint8\"))\n",
    "        plt.title(class_names[labels[i]])\n",
    "        plt.axis(\"off\")\n",
    "\n",
    "plt.show()"
   ]
  }
 ],
 "metadata": {
  "language_info": {
   "name": "python"
  }
 },
 "nbformat": 4,
 "nbformat_minor": 5
}
